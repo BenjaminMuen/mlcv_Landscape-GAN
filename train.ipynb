{
 "cells": [
  {
   "cell_type": "markdown",
   "metadata": {},
   "source": [
    "# Training of the diffusion model"
   ]
  },
  {
   "cell_type": "code",
   "execution_count": null,
   "metadata": {},
   "outputs": [],
   "source": [
    "import mlflow\n",
    "import mlflow.pytorch\n",
    "\n",
    "import pytorch_lightning as pl\n",
    "\n",
    "import torch\n",
    "\n",
    "from pytorch_lightning.callbacks import LearningRateMonitor\n",
    "\n",
    "from pl_module import PL_Module\n",
    "from dataloader import get_dataloader\n",
    "\n",
    "from diffusers import UNet2DModel, DDPMScheduler\n",
    "\n",
    "# settings:\n",
    "torch.set_float32_matmul_precision(\"medium\")\n",
    "\n",
    "# logging:\n",
    "mlflow.pytorch.autolog(\n",
    "    checkpoint_save_best_only=False,\n",
    "    checkpoint_save_weights_only=True\n",
    ")\n",
    "\n",
    "mlflow.end_run()\n",
    "mlflow.set_experiment(\"DIFFUSION_MODEL\")\n",
    "mlflow.start_run()"
   ]
  },
  {
   "cell_type": "markdown",
   "metadata": {},
   "source": [
    "## Hyperparameters"
   ]
  },
  {
   "cell_type": "code",
   "execution_count": null,
   "metadata": {},
   "outputs": [],
   "source": [
    "device = \"cuda\" if torch.cuda.is_available() else \"cpu\"\n",
    "\n",
    "n_workers = 4\n",
    "\n",
    "epochs = 100\n",
    "batch_size = 8\n",
    "\n",
    "lr = 1e-4\n",
    "betas = (0.5, 0.999)\n",
    "beta_schedule = 'linear'\n",
    "\n",
    "nc = 3\n",
    "image_size = (64, 64)\n",
    "\n",
    "num_train_timesteps = 1000\n",
    "num_inference_timesteps = 1000\n",
    "\n",
    "data_path = './data/train/dataset/'\n",
    "\n",
    "n_valid = 16"
   ]
  },
  {
   "cell_type": "markdown",
   "metadata": {},
   "source": [
    "## Initialization"
   ]
  },
  {
   "cell_type": "code",
   "execution_count": null,
   "metadata": {},
   "outputs": [],
   "source": [
    "dataloader = get_dataloader(data_path, batch_size, n_workers)\n",
    "\n",
    "model = UNet2DModel(\n",
    "    sample_size=image_size,\n",
    "    in_channels=nc,\n",
    "    out_channels=nc,\n",
    "    layers_per_block=2,\n",
    "    block_out_channels=(128, 128, 128, 256, 256, 512, 512),\n",
    "    down_block_types=(\"DownBlock2D\", \"DownBlock2D\", \"DownBlock2D\", \"DownBlock2D\", \"DownBlock2D\", \"AttnDownBlock2D\", \"DownBlock2D\"),\n",
    "    up_block_types=(\"UpBlock2D\", \"AttnUpBlock2D\", \"UpBlock2D\", \"UpBlock2D\", \"UpBlock2D\", \"UpBlock2D\", \"UpBlock2D\")\n",
    ")\n",
    "\n",
    "noise_scheduler = DDPMScheduler(\n",
    "    num_train_timesteps=num_train_timesteps,\n",
    "    beta_schedule=beta_schedule\n",
    ")\n",
    "\n",
    "module = PL_Module(\n",
    "    model=model, \n",
    "    noise_scheduler=noise_scheduler,\n",
    "    lr=lr,\n",
    "    betas=betas,\n",
    "    n_valid=n_valid,\n",
    "    num_inference_timesteps=num_inference_timesteps\n",
    ")\n",
    "\n",
    "# callbacks:\n",
    "callbacks = []\n",
    "lr_monitor = LearningRateMonitor(logging_interval='epoch')\n",
    "callbacks.append(lr_monitor)\n",
    "\n",
    "# training:\n",
    "trainer = pl.Trainer(\n",
    "    accelerator=device,\n",
    "    devices=1,\n",
    "    max_epochs=epochs,\n",
    "    precision=\"16-mixed\",\n",
    "    logger=True,\n",
    "    callbacks=callbacks\n",
    ")"
   ]
  },
  {
   "cell_type": "markdown",
   "metadata": {},
   "source": [
    "## Start the Training"
   ]
  },
  {
   "cell_type": "code",
   "execution_count": null,
   "metadata": {},
   "outputs": [],
   "source": [
    "trainer.fit(module, dataloader)"
   ]
  }
 ],
 "metadata": {
  "kernelspec": {
   "display_name": ".venv",
   "language": "python",
   "name": "python3"
  },
  "language_info": {
   "codemirror_mode": {
    "name": "ipython",
    "version": 3
   },
   "file_extension": ".py",
   "mimetype": "text/x-python",
   "name": "python",
   "nbconvert_exporter": "python",
   "pygments_lexer": "ipython3",
   "version": "3.11.8"
  }
 },
 "nbformat": 4,
 "nbformat_minor": 2
}
