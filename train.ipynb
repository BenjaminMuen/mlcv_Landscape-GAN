{
 "cells": [
  {
   "cell_type": "markdown",
   "metadata": {},
   "source": [
    "# Training of the wasserstein GAN with gradient penalty"
   ]
  },
  {
   "cell_type": "code",
   "execution_count": null,
   "metadata": {},
   "outputs": [],
   "source": [
    "import mlflow\n",
    "import mlflow.pytorch\n",
    "\n",
    "import pytorch_lightning as pl\n",
    "\n",
    "import torch\n",
    "\n",
    "from pytorch_lightning.callbacks import LearningRateMonitor\n",
    "\n",
    "from pl_module import PL_Module\n",
    "from dataloader import get_dataloader\n",
    "from model import Generator, Critic\n",
    "\n",
    "# settings:\n",
    "torch.set_float32_matmul_precision(\"medium\")\n",
    "\n",
    "# logging:\n",
    "mlflow.pytorch.autolog(\n",
    "    checkpoint_save_best_only=False,\n",
    "    checkpoint_save_weights_only=True\n",
    ")\n",
    "\n",
    "mlflow.set_experiment(\"wgan\")\n",
    "mlflow.start_run()"
   ]
  },
  {
   "cell_type": "markdown",
   "metadata": {},
   "source": [
    "## Hyperparameters"
   ]
  },
  {
   "cell_type": "code",
   "execution_count": 2,
   "metadata": {},
   "outputs": [],
   "source": [
    "device = \"cuda\" if torch.cuda.is_available() else \"cpu\"\n",
    "\n",
    "n_workers = 4\n",
    "\n",
    "epochs = 100\n",
    "batch_size = 16\n",
    "\n",
    "lr = 0.0002\n",
    "betas = (0.5, 0.999)\n",
    "lambda_gp = 10\n",
    "\n",
    "nz = 100\n",
    "ngf = 64\n",
    "ndf = 64\n",
    "\n",
    "data_path = \"./data/train/dataset\"\n",
    "\n",
    "n_valid = 16"
   ]
  },
  {
   "cell_type": "markdown",
   "metadata": {},
   "source": [
    "## Initialization"
   ]
  },
  {
   "cell_type": "code",
   "execution_count": null,
   "metadata": {},
   "outputs": [],
   "source": [
    "dataloader = get_dataloader(data_path, batch_size, n_workers)\n",
    "\n",
    "generator = Generator(nz, ngf)\n",
    "critic = Critic(ndf)\n",
    "\n",
    "module = PL_Module(generator, critic, lr, betas, lambda_gp, nz, n_valid)\n",
    "\n",
    "# callbacks:\n",
    "callbacks = []\n",
    "lr_monitor = LearningRateMonitor(logging_interval=\"epoch\")\n",
    "callbacks.append(lr_monitor)\n",
    "\n",
    "# training:\n",
    "trainer = pl.Trainer(\n",
    "    accelerator=device,\n",
    "    devices=1,\n",
    "    max_epochs=epochs,\n",
    "    precision=\"16-mixed\",\n",
    "    logger=True,\n",
    "    callbacks=callbacks\n",
    ")"
   ]
  },
  {
   "cell_type": "markdown",
   "metadata": {},
   "source": [
    "## Start the Training"
   ]
  },
  {
   "cell_type": "code",
   "execution_count": null,
   "metadata": {},
   "outputs": [],
   "source": [
    "trainer.fit(module, dataloader)"
   ]
  }
 ],
 "metadata": {
  "kernelspec": {
   "display_name": "Python 3",
   "language": "python",
   "name": "python3"
  },
  "language_info": {
   "codemirror_mode": {
    "name": "ipython",
    "version": 3
   },
   "file_extension": ".py",
   "mimetype": "text/x-python",
   "name": "python",
   "nbconvert_exporter": "python",
   "pygments_lexer": "ipython3",
   "version": "3.11.8"
  }
 },
 "nbformat": 4,
 "nbformat_minor": 2
}
