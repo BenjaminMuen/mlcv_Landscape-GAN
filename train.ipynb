{
 "cells": [
  {
   "cell_type": "markdown",
   "metadata": {},
   "source": [
    "# Training of the wasserstein GAN with gradient penalty"
   ]
  },
  {
   "cell_type": "code",
   "execution_count": 1,
   "metadata": {},
   "outputs": [
    {
     "name": "stderr",
     "output_type": "stream",
     "text": [
      "2025/01/09 10:48:32 WARNING mlflow.utils.autologging_utils: MLflow pytorch autologging is known to be compatible with 1.9.0 <= torch <= 2.5.1, but the installed version is 2.5.1+cu124. If you encounter errors during autologging, try upgrading / downgrading torch to a compatible version, or try upgrading MLflow.\n",
      "2025/01/09 10:48:32 INFO mlflow.tracking.fluent: Experiment with name 'wgan' does not exist. Creating a new experiment.\n"
     ]
    },
    {
     "data": {
      "text/plain": [
       "<ActiveRun: >"
      ]
     },
     "execution_count": 1,
     "metadata": {},
     "output_type": "execute_result"
    }
   ],
   "source": [
    "import mlflow\n",
    "import mlflow.pytorch\n",
    "\n",
    "import pytorch_lightning as pl\n",
    "\n",
    "import torch\n",
    "\n",
    "from pytorch_lightning.callbacks import LearningRateMonitor\n",
    "\n",
    "from pl_module import PL_Module\n",
    "from dataloader import get_dataloader\n",
    "from model import Generator, Critic\n",
    "\n",
    "# settings:\n",
    "torch.set_float32_matmul_precision(\"medium\")\n",
    "\n",
    "# logging:\n",
    "mlflow.pytorch.autolog(\n",
    "    checkpoint_save_best_only=False,\n",
    "    checkpoint_save_weights_only=True\n",
    ")\n",
    "\n",
    "mlflow.set_experiment(\"wgan\")\n",
    "mlflow.start_run()"
   ]
  },
  {
   "cell_type": "markdown",
   "metadata": {},
   "source": [
    "## Hyperparameters"
   ]
  },
  {
   "cell_type": "code",
   "execution_count": 2,
   "metadata": {},
   "outputs": [],
   "source": [
    "device = \"cuda\" if torch.cuda.is_available() else \"cpu\"\n",
    "\n",
    "n_workers = 4\n",
    "\n",
    "epochs = 100\n",
    "batch_size = 16\n",
    "\n",
    "lr = 0.0002\n",
    "betas = (0.5, 0.999)\n",
    "lambda_gp = 10\n",
    "\n",
    "nz = 100\n",
    "ngf = 64\n",
    "ndf = 64\n",
    "\n",
    "data_path = \"./data/train/dataset\"\n",
    "\n",
    "n_valid = 16"
   ]
  },
  {
   "cell_type": "markdown",
   "metadata": {},
   "source": [
    "## Initialization"
   ]
  },
  {
   "cell_type": "code",
   "execution_count": 3,
   "metadata": {},
   "outputs": [
    {
     "ename": "FileNotFoundError",
     "evalue": "[WinError 3] Das System kann den angegebenen Pfad nicht finden: './data/train/dataset'",
     "output_type": "error",
     "traceback": [
      "\u001b[1;31m---------------------------------------------------------------------------\u001b[0m",
      "\u001b[1;31mFileNotFoundError\u001b[0m                         Traceback (most recent call last)",
      "Cell \u001b[1;32mIn[3], line 1\u001b[0m\n\u001b[1;32m----> 1\u001b[0m dataloader \u001b[38;5;241m=\u001b[39m \u001b[43mget_dataloader\u001b[49m\u001b[43m(\u001b[49m\u001b[43mdata_path\u001b[49m\u001b[43m,\u001b[49m\u001b[43m \u001b[49m\u001b[43mbatch_size\u001b[49m\u001b[43m,\u001b[49m\u001b[43m \u001b[49m\u001b[43mn_workers\u001b[49m\u001b[43m)\u001b[49m\n\u001b[0;32m      3\u001b[0m generator \u001b[38;5;241m=\u001b[39m Generator(nz, ngf)\n\u001b[0;32m      4\u001b[0m critic \u001b[38;5;241m=\u001b[39m Critic(ndf)\n",
      "File \u001b[1;32mc:\\Data\\DHBW\\Semester5\\ML\\mlcv_Landscape-GAN\\dataloader.py:39\u001b[0m, in \u001b[0;36mget_dataloader\u001b[1;34m(root_dir, batch_size, n_workers, transform)\u001b[0m\n\u001b[0;32m     36\u001b[0m \u001b[38;5;28;01mif\u001b[39;00m transform \u001b[38;5;129;01mis\u001b[39;00m \u001b[38;5;28;01mNone\u001b[39;00m:\n\u001b[0;32m     37\u001b[0m     transform \u001b[38;5;241m=\u001b[39m default_transform\n\u001b[1;32m---> 39\u001b[0m dataset \u001b[38;5;241m=\u001b[39m \u001b[43mLandscape_Dataset\u001b[49m\u001b[43m(\u001b[49m\u001b[43mroot_dir\u001b[49m\u001b[43m,\u001b[49m\u001b[43m \u001b[49m\u001b[43mtransform\u001b[49m\u001b[43m)\u001b[49m\n\u001b[0;32m     40\u001b[0m dataloader \u001b[38;5;241m=\u001b[39m DataLoader(dataset, batch_size\u001b[38;5;241m=\u001b[39mbatch_size, shuffle\u001b[38;5;241m=\u001b[39m\u001b[38;5;28;01mTrue\u001b[39;00m, num_workers\u001b[38;5;241m=\u001b[39mn_workers)\n\u001b[0;32m     42\u001b[0m \u001b[38;5;28;01mreturn\u001b[39;00m dataloader\n",
      "File \u001b[1;32mc:\\Data\\DHBW\\Semester5\\ML\\mlcv_Landscape-GAN\\dataloader.py:14\u001b[0m, in \u001b[0;36mLandscape_Dataset.__init__\u001b[1;34m(self, root_dir, transform)\u001b[0m\n\u001b[0;32m     11\u001b[0m \u001b[38;5;28mself\u001b[39m\u001b[38;5;241m.\u001b[39mtransform \u001b[38;5;241m=\u001b[39m transform\n\u001b[0;32m     13\u001b[0m \u001b[38;5;66;03m# get all images from the root directory\u001b[39;00m\n\u001b[1;32m---> 14\u001b[0m \u001b[38;5;28mself\u001b[39m\u001b[38;5;241m.\u001b[39mimage_files \u001b[38;5;241m=\u001b[39m [os\u001b[38;5;241m.\u001b[39mpath\u001b[38;5;241m.\u001b[39mjoin(root_dir, file) \u001b[38;5;28;01mfor\u001b[39;00m file \u001b[38;5;129;01min\u001b[39;00m \u001b[43mos\u001b[49m\u001b[38;5;241;43m.\u001b[39;49m\u001b[43mlistdir\u001b[49m\u001b[43m(\u001b[49m\u001b[43mroot_dir\u001b[49m\u001b[43m)\u001b[49m \u001b[38;5;28;01mif\u001b[39;00m file\u001b[38;5;241m.\u001b[39mendswith((\u001b[38;5;124m'\u001b[39m\u001b[38;5;124m.png\u001b[39m\u001b[38;5;124m'\u001b[39m, \u001b[38;5;124m'\u001b[39m\u001b[38;5;124m.jpg\u001b[39m\u001b[38;5;124m'\u001b[39m, \u001b[38;5;124m'\u001b[39m\u001b[38;5;124mjpeg\u001b[39m\u001b[38;5;124m'\u001b[39m))]\n",
      "\u001b[1;31mFileNotFoundError\u001b[0m: [WinError 3] Das System kann den angegebenen Pfad nicht finden: './data/train/dataset'"
     ]
    }
   ],
   "source": [
    "dataloader = get_dataloader(data_path, batch_size, n_workers)\n",
    "\n",
    "generator = Generator(nz, ngf)\n",
    "critic = Critic(ndf)\n",
    "\n",
    "module = PL_Module(generator, critic, lr, betas, lambda_gp, nz, n_valid)\n",
    "\n",
    "# callbacks:\n",
    "callbacks = []\n",
    "lr_monitor = LearningRateMonitor(logging_interval=\"epoch\")\n",
    "callbacks.append(lr_monitor)\n",
    "\n",
    "# training:\n",
    "trainer = pl.Trainer(\n",
    "    accelerator=device,\n",
    "    devices=1,\n",
    "    max_epochs=epochs,\n",
    "    precision=\"16-mixed\",\n",
    "    logger=True,\n",
    "    callbacks=callbacks\n",
    ")"
   ]
  },
  {
   "cell_type": "markdown",
   "metadata": {},
   "source": [
    "## Start the Training"
   ]
  },
  {
   "cell_type": "code",
   "execution_count": null,
   "metadata": {},
   "outputs": [],
   "source": [
    "trainer.fit(module, dataloader)"
   ]
  }
 ],
 "metadata": {
  "kernelspec": {
   "display_name": "Python 3",
   "language": "python",
   "name": "python3"
  },
  "language_info": {
   "codemirror_mode": {
    "name": "ipython",
    "version": 3
   },
   "file_extension": ".py",
   "mimetype": "text/x-python",
   "name": "python",
   "nbconvert_exporter": "python",
   "pygments_lexer": "ipython3",
   "version": "3.11.8"
  }
 },
 "nbformat": 4,
 "nbformat_minor": 2
}
