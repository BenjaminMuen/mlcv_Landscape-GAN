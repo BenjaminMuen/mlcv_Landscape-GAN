{
 "cells": [
  {
   "cell_type": "markdown",
   "metadata": {},
   "source": [
    "# Generate images using a pretrained Model"
   ]
  },
  {
   "cell_type": "code",
   "execution_count": 1,
   "metadata": {},
   "outputs": [],
   "source": [
    "import os\n",
    "\n",
    "import torch\n",
    "import matplotlib.pyplot as plt\n",
    "\n",
    "from datetime import datetime\n",
    "from torchvision.utils import save_image\n",
    "\n",
    "from pl_module import PL_Module\n",
    "from model import Generator, Critic\n"
   ]
  },
  {
   "cell_type": "markdown",
   "metadata": {},
   "source": [
    "## Hyperparameters"
   ]
  },
  {
   "cell_type": "code",
   "execution_count": 2,
   "metadata": {},
   "outputs": [],
   "source": [
    "device = torch.device('cuda' if torch.cuda.is_available() else 'cpu')\n",
    "\n",
    "nz = 100\n",
    "ngf = 64\n",
    "ndf = 64\n",
    "\n",
    "weights_path = \"./data/weights/wgan.weights.pth\""
   ]
  },
  {
   "cell_type": "markdown",
   "metadata": {},
   "source": [
    "## Utility functions"
   ]
  },
  {
   "cell_type": "code",
   "execution_count": 3,
   "metadata": {},
   "outputs": [],
   "source": [
    "def load_model(path, device):\n",
    "    # create module\n",
    "    generator = Generator(nz=nz, ngf=ngf)\n",
    "    critic = Critic(ndf=ndf)\n",
    "\n",
    "    module = PL_Module(generator, critic, None, None, None, nz, 16)\n",
    "\n",
    "    # load checkpoint\n",
    "    checkpoint = torch.load(path, map_location=device)\n",
    "    state_dict = checkpoint['state_dict']\n",
    "    \n",
    "    # load pretrained weights into generator model\n",
    "    module.load_state_dict(state_dict)\n",
    "    \n",
    "    generator = module.generator\n",
    "\n",
    "    # set generator to evaluation mode\n",
    "    generator.eval().to(device)\n",
    "\n",
    "    return generator\n",
    "\n",
    "def generate_image(generator, nz, device):\n",
    "    with torch.no_grad():\n",
    "        # noise input vector\n",
    "        z = torch.randn((1, nz, 1, 1), device=device)\n",
    "\n",
    "        generated_image = generator(z)\n",
    "\n",
    "    return generated_image"
   ]
  },
  {
   "cell_type": "markdown",
   "metadata": {},
   "source": [
    "## Initialization"
   ]
  },
  {
   "cell_type": "code",
   "execution_count": null,
   "metadata": {},
   "outputs": [],
   "source": [
    "generator = load_model(weights_path, device)"
   ]
  },
  {
   "cell_type": "markdown",
   "metadata": {},
   "source": [
    "## Image generation"
   ]
  },
  {
   "cell_type": "code",
   "execution_count": null,
   "metadata": {},
   "outputs": [],
   "source": [
    "# generate images using the generator model (you can execute over and over to generate different images)\n",
    "generated_image = generate_image(generator, nz, device)\n",
    "\n",
    "plt.imshow(generated_image[0].permute(1, 2, 0).cpu())"
   ]
  },
  {
   "cell_type": "markdown",
   "metadata": {},
   "source": [
    "## Save current image"
   ]
  },
  {
   "cell_type": "code",
   "execution_count": 10,
   "metadata": {},
   "outputs": [],
   "source": [
    "# save the current image in the ./data/output folder using the timestamp as filename\n",
    "output_path = f\"./data/output/{datetime.now().strftime('%Y-%m-%d_%H-%M-%S')}.png\"\n",
    "os.makedirs(os.path.dirname(output_path), exist_ok=True)\n",
    "\n",
    "save_image(generated_image, output_path)"
   ]
  }
 ],
 "metadata": {
  "kernelspec": {
   "display_name": "Python 3",
   "language": "python",
   "name": "python3"
  },
  "language_info": {
   "codemirror_mode": {
    "name": "ipython",
    "version": 3
   },
   "file_extension": ".py",
   "mimetype": "text/x-python",
   "name": "python",
   "nbconvert_exporter": "python",
   "pygments_lexer": "ipython3",
   "version": "3.11.8"
  }
 },
 "nbformat": 4,
 "nbformat_minor": 2
}
