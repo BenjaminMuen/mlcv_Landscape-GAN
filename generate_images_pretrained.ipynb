{
 "cells": [
  {
   "cell_type": "markdown",
   "metadata": {},
   "source": [
    "# Generate images using a pretrained Model"
   ]
  },
  {
   "cell_type": "code",
   "execution_count": 1,
   "metadata": {},
   "outputs": [],
   "source": [
    "import torch\n",
    "import matplotlib.pyplot as plt\n",
    "\n",
    "from torchvision.utils import make_grid\n",
    "\n",
    "from diffusers import DDPMPipeline"
   ]
  },
  {
   "cell_type": "markdown",
   "metadata": {},
   "source": [
    "## Hyperparameters"
   ]
  },
  {
   "cell_type": "code",
   "execution_count": 26,
   "metadata": {},
   "outputs": [],
   "source": [
    "device = torch.device('cuda' if torch.cuda.is_available() else 'cpu')\n",
    "\n",
    "image_size = (64, 64)\n",
    "nc = 3\n",
    "\n",
    "num_inference_steps = 1000\n",
    "\n",
    "model_path = './data/weights/diffusion.pth'"
   ]
  },
  {
   "cell_type": "markdown",
   "metadata": {},
   "source": [
    "## Initialization"
   ]
  },
  {
   "cell_type": "code",
   "execution_count": null,
   "metadata": {},
   "outputs": [],
   "source": [
    "# load checkpoint\n",
    "module = torch.load(model_path, map_location=device)\n",
    "module.eval().to(device)\n",
    "\n",
    "# pipeline\n",
    "model = module.model\n",
    "\n",
    "pipeline = DDPMPipeline(model, module.noise_scheduler)\n",
    "generator = torch.Generator(device=device).manual_seed(0)"
   ]
  },
  {
   "cell_type": "markdown",
   "metadata": {},
   "source": [
    "## Image generation"
   ]
  },
  {
   "cell_type": "markdown",
   "metadata": {},
   "source": [
    "### Grid"
   ]
  },
  {
   "cell_type": "code",
   "execution_count": null,
   "metadata": {},
   "outputs": [],
   "source": [
    "# grid size (6x6), change n to 1 for single image generation\n",
    "n = 6\n",
    "\n",
    "images = pipeline(n*n, generator, num_inference_steps, \"numpy\").images\n",
    "\n",
    "grid = make_grid(torch.from_numpy(images.transpose(0, 3, 1, 2)), nrow=n, normalize=True).swapaxes(0, 2).swapaxes(0, 1)\n",
    "\n",
    "plt.imshow(grid.detach().cpu().numpy())\n",
    "plt.axis('off')"
   ]
  }
 ],
 "metadata": {
  "kernelspec": {
   "display_name": ".venv",
   "language": "python",
   "name": "python3"
  },
  "language_info": {
   "codemirror_mode": {
    "name": "ipython",
    "version": 3
   },
   "file_extension": ".py",
   "mimetype": "text/x-python",
   "name": "python",
   "nbconvert_exporter": "python",
   "pygments_lexer": "ipython3",
   "version": "3.11.8"
  }
 },
 "nbformat": 4,
 "nbformat_minor": 2
}
