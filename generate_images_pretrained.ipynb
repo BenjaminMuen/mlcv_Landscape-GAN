{
 "cells": [
  {
   "cell_type": "markdown",
   "metadata": {},
   "source": [
    "# Generate images using a pretrained Model"
   ]
  },
  {
   "cell_type": "code",
   "execution_count": 1,
   "metadata": {},
   "outputs": [],
   "source": [
    "import torch\n",
    "import matplotlib.pyplot as plt\n",
    "\n",
    "from datetime import datetime\n",
    "from torchvision import transforms\n",
    "from torchvision.utils import make_grid\n",
    "\n",
    "from pl_module import PL_Module\n",
    "from model import Generator, Critic"
   ]
  },
  {
   "cell_type": "markdown",
   "metadata": {},
   "source": [
    "## Hyperparameters"
   ]
  },
  {
   "cell_type": "code",
   "execution_count": 2,
   "metadata": {},
   "outputs": [],
   "source": [
    "device = torch.device('cuda' if torch.cuda.is_available() else 'cpu')\n",
    "\n",
    "nz = 100\n",
    "ngf = 64\n",
    "ndf = 64\n",
    "\n",
    "weights_path = \"./data/weights/wgan.weights.pth\""
   ]
  },
  {
   "cell_type": "markdown",
   "metadata": {},
   "source": [
    "## Initialization"
   ]
  },
  {
   "cell_type": "code",
   "execution_count": null,
   "metadata": {},
   "outputs": [],
   "source": [
    "# reverse normalization to generate images in original scope\n",
    "reverse_normalize = transforms.Compose([\n",
    "    transforms.Normalize(mean=[0, 0, 0], std=[1/0.5, 1/0.5, 1/0.5]),\n",
    "    transforms.Normalize(mean=[-0.5, -0.5, -0.5], std=[1, 1, 1])\n",
    "])\n",
    "\n",
    "# create models\n",
    "generator = Generator(nz=nz, ngf=ngf)\n",
    "critic = Critic(ndf=ndf)\n",
    "\n",
    "# create module to load in the weights\n",
    "module = PL_Module(generator, critic, None, None, None, nz, 16)\n",
    "\n",
    "# load checkpoint\n",
    "checkpoint = torch.load(weights_path, map_location=device)\n",
    "state_dict = checkpoint['state_dict']\n",
    "\n",
    "# load weights\n",
    "module.load_state_dict(state_dict)\n",
    "\n",
    "generator = module.generator\n",
    "\n",
    "# set generator to eval mode\n",
    "generator.eval().to(device)"
   ]
  },
  {
   "cell_type": "markdown",
   "metadata": {},
   "source": [
    "## Image generation"
   ]
  },
  {
   "cell_type": "markdown",
   "metadata": {},
   "source": [
    "### Single image"
   ]
  },
  {
   "cell_type": "code",
   "execution_count": null,
   "metadata": {},
   "outputs": [],
   "source": [
    "# input noise vector\n",
    "z = torch.randn((1, nz, 1, 1), device=device)\n",
    "\n",
    "# generate image\n",
    "with torch.no_grad():\n",
    "    generated_image = generator(z)\n",
    "\n",
    "generate_image = reverse_normalize(generated_image[0])\n",
    "\n",
    "# display image\n",
    "plt.imshow(generated_image[0].permute(1, 2, 0).cpu())\n",
    "plt.axis('off')"
   ]
  },
  {
   "cell_type": "markdown",
   "metadata": {},
   "source": [
    "### Grid"
   ]
  },
  {
   "cell_type": "code",
   "execution_count": null,
   "metadata": {},
   "outputs": [],
   "source": [
    "# number of images for grid (6x6)\n",
    "n = 6\n",
    "\n",
    "# input noise vector\n",
    "z = torch.randn((n*n, nz, 1, 1), device=device)\n",
    "\n",
    "# generate images\n",
    "with torch.no_grad():\n",
    "    generated_images = generator(z)\n",
    "\n",
    "# create grid of images\n",
    "grid = make_grid(generated_images, nrow=n, normalize=True).permute(1, 2, 0).cpu()\n",
    "\n",
    "# display the grid\n",
    "plt.imshow(grid)\n",
    "plt.axis('off')"
   ]
  }
 ],
 "metadata": {
  "kernelspec": {
   "display_name": "Python 3",
   "language": "python",
   "name": "python3"
  },
  "language_info": {
   "codemirror_mode": {
    "name": "ipython",
    "version": 3
   },
   "file_extension": ".py",
   "mimetype": "text/x-python",
   "name": "python",
   "nbconvert_exporter": "python",
   "pygments_lexer": "ipython3",
   "version": "3.11.8"
  }
 },
 "nbformat": 4,
 "nbformat_minor": 2
}
