{
 "cells": [
  {
   "cell_type": "markdown",
   "metadata": {},
   "source": [
    "# Generate images using a pretrained Model"
   ]
  },
  {
   "cell_type": "code",
   "execution_count": 1,
   "metadata": {},
   "outputs": [],
   "source": [
    "import torch\n",
    "import matplotlib.pyplot as plt\n",
    "\n",
    "from torchvision.utils import make_grid\n",
    "\n",
    "from pl_module import PL_Module\n",
    "from model import Generator, Discriminator\n"
   ]
  },
  {
   "cell_type": "markdown",
   "metadata": {},
   "source": [
    "## Hyperparameters"
   ]
  },
  {
   "cell_type": "code",
   "execution_count": 2,
   "metadata": {},
   "outputs": [],
   "source": [
    "device = torch.device('cuda' if torch.cuda.is_available() else 'cpu')\n",
    "\n",
    "nz = 100\n",
    "ngf = 64\n",
    "ndf = 64\n",
    "\n",
    "weights_path = \"./data/weights/dcgan.weights.pth\""
   ]
  },
  {
   "cell_type": "markdown",
   "metadata": {},
   "source": [
    "## Initialization"
   ]
  },
  {
   "cell_type": "code",
   "execution_count": null,
   "metadata": {},
   "outputs": [],
   "source": [
    "# create models\n",
    "generator = Generator(nz=nz, ngf=ngf)\n",
    "discriminator = Discriminator(ndf=ndf)\n",
    "\n",
    "# create module to load in the weights\n",
    "module = PL_Module(generator, discriminator, None, None, nz, 16)\n",
    "\n",
    "# load checkpoint\n",
    "checkpoint = torch.load(weights_path, map_location=device)\n",
    "state_dict = checkpoint['state_dict']\n",
    "\n",
    "# load weights\n",
    "module.load_state_dict(state_dict)\n",
    "\n",
    "generator = module.generator\n",
    "\n",
    "# set generator to eval mode\n",
    "generator.eval().to(device)"
   ]
  },
  {
   "cell_type": "markdown",
   "metadata": {},
   "source": [
    "## Image generation"
   ]
  },
  {
   "cell_type": "markdown",
   "metadata": {},
   "source": [
    "### Grid"
   ]
  },
  {
   "cell_type": "code",
   "execution_count": null,
   "metadata": {},
   "outputs": [],
   "source": [
    "# number of images for grid (6x6), you also can change n to 1 for single image generation\n",
    "n = 6 \n",
    "\n",
    "# input noise vector\n",
    "z = torch.randn((n*n, nz, 1, 1), device=device)\n",
    "\n",
    "# generate images\n",
    "with torch.no_grad():\n",
    "    generated_images = generator(z)\n",
    "\n",
    "# create grid of images\n",
    "grid = make_grid(generated_images, nrow=n, normalize=True).permute(1, 2, 0).cpu()\n",
    "\n",
    "# display the grid\n",
    "plt.imshow(grid)\n",
    "plt.axis('off')"
   ]
  }
 ],
 "metadata": {
  "kernelspec": {
   "display_name": ".venv",
   "language": "python",
   "name": "python3"
  },
  "language_info": {
   "codemirror_mode": {
    "name": "ipython",
    "version": 3
   },
   "file_extension": ".py",
   "mimetype": "text/x-python",
   "name": "python",
   "nbconvert_exporter": "python",
   "pygments_lexer": "ipython3",
   "version": "3.11.8"
  }
 },
 "nbformat": 4,
 "nbformat_minor": 2
}
